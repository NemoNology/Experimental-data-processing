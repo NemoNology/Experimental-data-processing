{
 "cells": [
  {
   "cell_type": "markdown",
   "metadata": {},
   "source": [
    "# Init"
   ]
  },
  {
   "cell_type": "markdown",
   "metadata": {},
   "source": [
    "![Task](image.png)"
   ]
  },
  {
   "cell_type": "code",
   "execution_count": null,
   "metadata": {},
   "outputs": [],
   "source": [
    "import matplotlib.pyplot as plt\n",
    "import numpy as np\n",
    "import tabulate as tb\n",
    "\n",
    "Data = np.array([\n",
    "    19.8, 19.1, 19.3, 18.8, 20.2, 20.8, 20.7, 19.7, 19.6, 19.2,\n",
    "    20.9, 20.9, 20.2, 19.6, 20.4, 20.4, 20.2, 20.4, 18.9, 19.7,\n",
    "    19.8, 20.6, 20.7, 19.7, 20.3, 19.8, 20.4, 20.3, 20.6, 20.5,\n",
    "    20.4, 20.5, 20.3, 20.5, 20.2, 20.5, 20.7, 21.0, 20.4, 20.8,\n",
    "    20.5, 20.4, 20.6, 21.0, 20.4, 20.4, 20.3, 19.7, 19.9, 20.1\n",
    "], type(float))\n",
    "\n",
    "lenData = len(Data)\n",
    "# print(tb.tabulate(np.array_split(Data, 10)))\n"
   ]
  },
  {
   "cell_type": "markdown",
   "metadata": {},
   "source": [
    "# Frequencies"
   ]
  },
  {
   "cell_type": "markdown",
   "metadata": {},
   "source": [
    "## Discrete series"
   ]
  },
  {
   "cell_type": "code",
   "execution_count": null,
   "metadata": {},
   "outputs": [],
   "source": [
    "sortedData = np.sort(Data)\n",
    "orderedData, frequency = np.unique(sortedData, return_counts=True)\n",
    "lenOrderedData = len(orderedData)\n",
    "barColumnSize = (orderedData[-1] - orderedData[0]) / lenOrderedData"
   ]
  },
  {
   "cell_type": "code",
   "execution_count": null,
   "metadata": {},
   "outputs": [],
   "source": [
    "print(tb.tabulate([orderedData, frequency], showindex=['Xi', 'Frequency']))\n",
    "\n",
    "bar = plt.bar(orderedData, frequency,\n",
    "              color='purple', edgecolor='k',\n",
    "              width=barColumnSize)\n",
    "plt.title('Discrete series')\n",
    "plt.xlabel('Value')\n",
    "plt.ylabel('Frequency')"
   ]
  },
  {
   "cell_type": "markdown",
   "metadata": {},
   "source": []
  },
  {
   "cell_type": "markdown",
   "metadata": {},
   "source": [
    "## Intervals series"
   ]
  },
  {
   "cell_type": "code",
   "execution_count": null,
   "metadata": {},
   "outputs": [],
   "source": [
    "R = sortedData[-1] - sortedData[0]\n",
    "k = np.sqrt(lenData)\n",
    "h = np.round(R / k, 1)\n",
    "offset = 0.5 * h\n",
    "x0 = sortedData[0] - offset\n",
    "lenSeries = int(np.round(k, 1))\n",
    "sessions = np.array([(.0, .0)] * lenSeries)\n",
    "sessionElementsCount = np.array([1] * lenSeries)\n",
    "\n",
    "for i in range(lenSeries):\n",
    "    sessionEnd = x0 + h\n",
    "    sessions[i] = (x0, sessionEnd)\n",
    "    sessionElementsCount[i] = \\\n",
    "        np.sum(((sortedData >= x0) & (sortedData < sessionEnd)))\n",
    "    x0 += h"
   ]
  },
  {
   "cell_type": "code",
   "execution_count": null,
   "metadata": {},
   "outputs": [],
   "source": [
    "print(\n",
    "    tb.tabulate(\n",
    "        [[f'{session[0]:.2f} - {session[1]:.2f}' for session in sessions],\n",
    "         sessionElementsCount]))\n",
    "\n",
    "positions = [session[0] + offset for session in sessions]\n",
    "plt.bar(positions, sessionElementsCount,\n",
    "        color='purple', edgecolor='k',\n",
    "        width=h)\n",
    "plt.plot(positions, sessionElementsCount,\n",
    "         color=\"k\", linewidth=2)\n",
    "plt.title('Interval series')\n",
    "plt.xlabel('Interals')\n",
    "plt.ylabel('Frequency')\n"
   ]
  },
  {
   "cell_type": "markdown",
   "metadata": {},
   "source": [
    "## Sum curve"
   ]
  },
  {
   "cell_type": "code",
   "execution_count": null,
   "metadata": {},
   "outputs": [],
   "source": [
    "relatedFrequencies = np.array([np.round(fr / lenData, 2) for fr in frequency])\n",
    "accumulatedRelativeFrequencies = [.0] * lenOrderedData\n",
    "accumulatedRelativeFrequencies[0] = relatedFrequencies[0] \n",
    "for i in range(1, lenOrderedData):\n",
    "    accumulatedRelativeFrequencies[i] = \\\n",
    "        accumulatedRelativeFrequencies[i - 1] + relatedFrequencies[i]"
   ]
  },
  {
   "cell_type": "code",
   "execution_count": null,
   "metadata": {},
   "outputs": [],
   "source": [
    "print(tb.tabulate(\n",
    "    [orderedData,\n",
    "     relatedFrequencies,\n",
    "     accumulatedRelativeFrequencies]))\n",
    "\n",
    "plt.bar(orderedData, accumulatedRelativeFrequencies,\n",
    "        width=(orderedData[-1] - orderedData[0]) / lenOrderedData, color='purple', edgecolor='k')\n",
    "plt.plot(orderedData, accumulatedRelativeFrequencies,\n",
    "        linewidth=2, color='k')\n",
    "plt.title('Sum curve')\n",
    "plt.xlabel('Interal center')\n",
    "plt.ylabel('Frequency')"
   ]
  },
  {
   "cell_type": "markdown",
   "metadata": {},
   "source": [
    "# Task 4"
   ]
  },
  {
   "cell_type": "code",
   "execution_count": null,
   "metadata": {},
   "outputs": [],
   "source": [
    "MoX, = orderedData[np.where(frequency == frequency.max())]\n",
    "MeX = .0\n",
    "half = lenOrderedData / 2\n",
    "if (lenOrderedData % 2 == 0):\n",
    "    MeX = np.round((orderedData[half] + orderedData[half + 1]) / 2, 2)\n",
    "else:\n",
    "    MeX = orderedData[(int(np.round(half, 0)))]\n",
    "\n",
    "u = np.array((orderedData - MoX) / h)\n"
   ]
  },
  {
   "cell_type": "code",
   "execution_count": null,
   "metadata": {},
   "outputs": [],
   "source": [
    "res = np.array([\n",
    "    [orderedData[i], frequency[i], u[i],\n",
    "     frequency[i] * u[i],\n",
    "     frequency[i] * u[i]**2,\n",
    "     frequency[i] * u[i]**3,\n",
    "     frequency[i] * u[i]**4]\n",
    "    for i in range(lenOrderedData)])\n",
    "\n",
    "m1, m2, m3, m4 = 0, 0, 0, 0\n",
    "\n",
    "for i in range(lenOrderedData):\n",
    "    m1 += res[i, 3]\n",
    "    m2 += res[i, 4]\n",
    "    m3 += res[i, 5]\n",
    "    m4 += res[i, 6]\n",
    "\n",
    "m1 /= lenData\n",
    "m2 /= lenData\n",
    "m3 /= lenData\n",
    "m4 /= lenData\n"
   ]
  },
  {
   "cell_type": "code",
   "execution_count": null,
   "metadata": {},
   "outputs": [],
   "source": [
    "headers = [\n",
    "    'Xi', 'Ni', 'Ui', 'Ni * Ui',\n",
    "     'Ni * Ui^2', 'Ni * Ui^3', 'Ni * Ui^4']\n",
    "\n",
    "print(tb.tabulate(res, headers=headers, floatfmt='.2f'))"
   ]
  },
  {
   "cell_type": "code",
   "execution_count": null,
   "metadata": {},
   "outputs": [],
   "source": [
    "print(f'M1: {m1:.2f}')\n",
    "print(f'M2: {m2:.2f}')\n",
    "print(f'M3: {m3:.2f}')\n",
    "print(f'M4: {m4:.2f}')\n",
    "s_2 = (m2 - m1**2) * h**2\n",
    "s = np.sqrt(s_2)\n",
    "cA = m1 * h + MoX\n",
    "print(f'Chosen avarage (X̄): {cA:.2f}')\n",
    "print(f'S^2 = D(X): {s_2:.2f}')\n",
    "print(f'S: {s:.2f}')\n",
    "print(f'V: {s / cA:.2f}')\n",
    "m_3 = (m3 - 3 * m2 * m1 + 2 * m1**3) * h**3\n",
    "m_4 = (m4 - 4 * m3 * m1 + 6 * m2 * m1**2 - 3 * m1**4) * h**4\n",
    "print(f'm3: {m3:.2f}')\n",
    "print(f'm4: {m_4:.2f}')\n",
    "print(f'As: {m_3 / s**3:.2f}')\n",
    "print(f'Ex: {m_4 / s**4 - 3:.2f}')\n"
   ]
  },
  {
   "cell_type": "markdown",
   "metadata": {},
   "source": [
    "# Task 5"
   ]
  },
  {
   "cell_type": "code",
   "execution_count": null,
   "metadata": {},
   "outputs": [],
   "source": [
    "ty = 1.984\n",
    "q = 0.143\n",
    "print(f'{cA - s / lenOrderedData * ty:.2f} < a < {cA + s / lenOrderedData * ty:.2f}')\n",
    "print(f'{s * (1 - q):.2f} < σ < {s * (1 + q):.2f}')\n"
   ]
  }
 ],
 "metadata": {
  "kernelspec": {
   "display_name": "Python 3",
   "language": "python",
   "name": "python3"
  },
  "language_info": {
   "codemirror_mode": {
    "name": "ipython",
    "version": 3
   },
   "file_extension": ".py",
   "mimetype": "text/x-python",
   "name": "python",
   "nbconvert_exporter": "python",
   "pygments_lexer": "ipython3",
   "version": "3.11.1"
  },
  "orig_nbformat": 4
 },
 "nbformat": 4,
 "nbformat_minor": 2
}
