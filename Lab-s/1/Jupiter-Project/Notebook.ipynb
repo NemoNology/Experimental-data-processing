{
 "cells": [
  {
   "cell_type": "markdown",
   "metadata": {},
   "source": [
    "# Init"
   ]
  },
  {
   "cell_type": "code",
   "execution_count": null,
   "metadata": {},
   "outputs": [],
   "source": [
    "import matplotlib.pyplot as plt\n",
    "import numpy as np\n",
    "import tabulate as tb\n",
    "\n",
    "Data = np.array \\\n",
    "([\n",
    "    61.2, 61.4, 60.2, 61.2, 61.3, 60.4, 61.4, 60.8, 61.2, 60.6,\n",
    "    61.6, 60.2, 61.3, 60.3, 60.7, 60.9, 61.2, 60.5, 61.0, 61.4,\n",
    "    61.1, 60.9, 61.5, 61.4, 60.6, 61.2, 60.1, 61.3, 61.1, 61.3,\n",
    "    60.3, 61.3, 60.6, 61.7, 60.6, 61.2, 60.8, 61.3, 61.0, 61.2,\n",
    "    60.5, 61.4, 60.7, 61.3, 60.9, 61.2, 61.1, 61.3, 60.9, 61.4,\n",
    "    60.7, 61.2, 60.3, 61.1, 61.0, 61.5, 61.3, 61.9, 61.4, 61.3,\n",
    "    61.6, 61.0, 61.7, 61.1, 60.9, 61.5, 61.6, 61.4, 61.5, 61.2,\n",
    "    61.6, 61.3, 61.8, 61.1, 61.7, 60.9, 62.2, 61.1, 62.1, 61.0,\n",
    "    61.5, 61.7, 62.3, 62.3, 61.7, 62.9, 62.5, 62.8, 62.6, 61.5,\n",
    "    62.1, 62.6, 61.6, 62.5, 62.4, 62.3, 62.1, 62.3, 62.2, 62.1\n",
    "], type(float))\n",
    "\n",
    "lenData = len(Data)\n",
    "# print(tb.tabulate(np.array_split(Data, 10)))\n"
   ]
  },
  {
   "cell_type": "markdown",
   "metadata": {},
   "source": [
    "# Frequencies"
   ]
  },
  {
   "cell_type": "markdown",
   "metadata": {},
   "source": [
    "## Discrete series"
   ]
  },
  {
   "cell_type": "code",
   "execution_count": null,
   "metadata": {},
   "outputs": [],
   "source": [
    "sortedData = np.sort(Data)\n",
    "orderedData, frequency = np.unique(sortedData, return_counts=True)\n",
    "lenOrderedData = len(orderedData)\n",
    "barColumnSize = (orderedData[0] - orderedData[-1]) / lenOrderedData"
   ]
  },
  {
   "cell_type": "code",
   "execution_count": null,
   "metadata": {},
   "outputs": [],
   "source": [
    "print(tb.tabulate([orderedData, frequency], showindex=['Xi', 'Frequency']))\n",
    "\n",
    "bar = plt.bar(orderedData, frequency,\n",
    "              color='purple', edgecolor='k',\n",
    "              width=barColumnSize)\n",
    "plt.title('Discrete series')\n",
    "plt.xlabel('Value')\n",
    "plt.ylabel('Frequency')"
   ]
  },
  {
   "cell_type": "markdown",
   "metadata": {},
   "source": []
  },
  {
   "cell_type": "markdown",
   "metadata": {},
   "source": [
    "## Intervals series"
   ]
  },
  {
   "cell_type": "code",
   "execution_count": null,
   "metadata": {},
   "outputs": [],
   "source": [
    "R = sortedData[-1] - sortedData[0]\n",
    "k = np.sqrt(lenData)\n",
    "h = np.round(R / k, 1)\n",
    "offset = 0.5 * h\n",
    "x0 = sortedData[0] - offset\n",
    "lenSeries = int(np.round(k, 1))\n",
    "sessions = np.array([(.0, .0)] * lenSeries)\n",
    "sessionElementsCount = np.array([1] * lenSeries)\n",
    "\n",
    "for i in range(lenSeries):\n",
    "    sessionEnd = x0 + h\n",
    "    sessions[i] = (x0, sessionEnd)\n",
    "    sessionElementsCount[i] = \\\n",
    "        np.sum(((sortedData >= x0) & (sortedData < sessionEnd)))\n",
    "    x0 += h"
   ]
  },
  {
   "cell_type": "code",
   "execution_count": null,
   "metadata": {},
   "outputs": [],
   "source": [
    "print(\n",
    "    tb.tabulate(\n",
    "        [[f'{session[0]:.2f} - {session[1]:.2f}' for session in sessions],\n",
    "         sessionElementsCount]))\n",
    "\n",
    "positions = [session[0] + offset for session in sessions]\n",
    "plt.bar(positions, sessionElementsCount,\n",
    "        color='purple', edgecolor='k',\n",
    "        width=h)\n",
    "plt.plot(positions, sessionElementsCount,\n",
    "         color=\"k\", linewidth=2)\n",
    "plt.title('Interval series')\n",
    "plt.xlabel('Interal center')\n",
    "plt.ylabel('Frequency')\n"
   ]
  },
  {
   "cell_type": "markdown",
   "metadata": {},
   "source": [
    "## Sum curve"
   ]
  },
  {
   "cell_type": "code",
   "execution_count": null,
   "metadata": {},
   "outputs": [],
   "source": [
    "relatedFrequencies = np.array([np.round(fr / lenData, 2) for fr in frequency])\n",
    "accumulatedRelativeFrequencies = [.0] * lenOrderedData\n",
    "accumulatedRelativeFrequencies[0] = relatedFrequencies[0] \n",
    "for i in range(1, lenOrderedData):\n",
    "    accumulatedRelativeFrequencies[i] = \\\n",
    "        accumulatedRelativeFrequencies[i - 1] + relatedFrequencies[i]"
   ]
  }
 ],
 "metadata": {
  "kernelspec": {
   "display_name": "Python 3",
   "language": "python",
   "name": "python3"
  },
  "language_info": {
   "codemirror_mode": {
    "name": "ipython",
    "version": 3
   },
   "file_extension": ".py",
   "mimetype": "text/x-python",
   "name": "python",
   "nbconvert_exporter": "python",
   "pygments_lexer": "ipython3",
   "version": "3.11.1"
  },
  "orig_nbformat": 4
 },
 "nbformat": 4,
 "nbformat_minor": 2
}
