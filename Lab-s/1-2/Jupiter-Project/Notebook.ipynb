{
 "cells": [
  {
   "cell_type": "markdown",
   "metadata": {},
   "source": [
    "# Lab 1"
   ]
  },
  {
   "cell_type": "markdown",
   "metadata": {},
   "source": [
    "## Init"
   ]
  },
  {
   "cell_type": "markdown",
   "metadata": {},
   "source": [
    "![Task](image.png)"
   ]
  },
  {
   "cell_type": "code",
   "execution_count": null,
   "metadata": {},
   "outputs": [],
   "source": [
    "import matplotlib.pyplot as plt\n",
    "import numpy as np\n",
    "import tabulate as tb\n",
    "\n",
    "Data = np.array([\n",
    "    19.8, 19.1, 19.3, 18.8, 20.2, 20.8, 20.7, 19.7, 19.6, 19.2,\n",
    "    20.9, 20.9, 20.2, 19.6, 20.4, 20.4, 20.2, 20.4, 18.9, 19.7,\n",
    "    19.8, 20.6, 20.7, 19.7, 20.3, 19.8, 20.4, 20.3, 20.6, 20.5,\n",
    "    20.4, 20.5, 20.3, 20.5, 20.2, 20.5, 20.7, 21.0, 20.4, 20.8,\n",
    "    20.5, 20.4, 20.6, 21.0, 20.4, 20.4, 20.3, 19.7, 19.9, 20.1\n",
    "], type(float))\n",
    "\n",
    "lenData = len(Data)\n",
    "# print(tb.tabulate(np.array_split(Data, 10)))\n"
   ]
  },
  {
   "cell_type": "markdown",
   "metadata": {},
   "source": [
    "## Frequencies (1)"
   ]
  },
  {
   "cell_type": "markdown",
   "metadata": {},
   "source": [
    "### Discrete series (1.1)"
   ]
  },
  {
   "cell_type": "code",
   "execution_count": null,
   "metadata": {},
   "outputs": [],
   "source": [
    "sortedData = np.sort(Data)\n",
    "orderedData, frequencies, = np.unique(sortedData, return_counts=True)\n",
    "lenOrderedData = len(orderedData)\n",
    "barColumnSize = (orderedData[-1] - orderedData[0]) / lenOrderedData"
   ]
  },
  {
   "cell_type": "code",
   "execution_count": null,
   "metadata": {},
   "outputs": [],
   "source": [
    "print(tb.tabulate([orderedData, frequencies], showindex=['Xi', 'Frequency']))\n",
    "\n",
    "bar = plt.bar(orderedData, frequencies,\n",
    "              color='purple', edgecolor='k',\n",
    "              width=barColumnSize)\n",
    "plt.title('Discrete series')\n",
    "plt.xlabel('Value')\n",
    "plt.ylabel('Frequency')"
   ]
  },
  {
   "cell_type": "markdown",
   "metadata": {},
   "source": []
  },
  {
   "cell_type": "markdown",
   "metadata": {},
   "source": [
    "### Intervals series (1.2)"
   ]
  },
  {
   "cell_type": "code",
   "execution_count": null,
   "metadata": {},
   "outputs": [],
   "source": [
    "R = sortedData[-1] - sortedData[0]\n",
    "k = np.sqrt(lenData)\n",
    "h = np.round(R / k, 1)\n",
    "offset = 0.5 * h\n",
    "x0 = sortedData[0] - offset\n",
    "lenSeries = int(np.round(k, 1))\n",
    "sessions = np.array([(.0, .0)] * lenSeries)\n",
    "sessionElementsCount = np.array([1] * lenSeries)\n",
    "\n",
    "for i in range(lenSeries):\n",
    "    sessionEnd = x0 + h\n",
    "    sessions[i] = (x0, sessionEnd)\n",
    "    sessionElementsCount[i] = \\\n",
    "        np.sum(((sortedData >= x0) & (sortedData < sessionEnd)))\n",
    "    x0 += h"
   ]
  },
  {
   "cell_type": "code",
   "execution_count": null,
   "metadata": {},
   "outputs": [],
   "source": [
    "print(\n",
    "    tb.tabulate(\n",
    "        [[f'{session[0]:.2f} - {session[1]:.2f}' for session in sessions],\n",
    "         sessionElementsCount]))\n",
    "\n",
    "positions = [session[0] + offset for session in sessions]\n",
    "plt.bar(positions, sessionElementsCount,\n",
    "        color='purple', edgecolor='k',\n",
    "        width=h)\n",
    "plt.plot(positions, sessionElementsCount,\n",
    "         color=\"k\", linewidth=2)\n",
    "plt.title('Interval series')\n",
    "plt.xlabel('Interals')\n",
    "plt.ylabel('Frequency')\n"
   ]
  },
  {
   "cell_type": "markdown",
   "metadata": {},
   "source": [
    "## Sum curve (2-3)"
   ]
  },
  {
   "cell_type": "code",
   "execution_count": null,
   "metadata": {},
   "outputs": [],
   "source": [
    "relatedFrequencies = np.array([np.round(fr / lenData, 2) for fr in frequencies])\n",
    "accumulatedRelativeFrequencies = [.0] * lenOrderedData\n",
    "accumulatedRelativeFrequencies[0] = relatedFrequencies[0] \n",
    "for i in range(1, lenOrderedData):\n",
    "    accumulatedRelativeFrequencies[i] = \\\n",
    "        accumulatedRelativeFrequencies[i - 1] + relatedFrequencies[i]"
   ]
  },
  {
   "cell_type": "code",
   "execution_count": null,
   "metadata": {},
   "outputs": [],
   "source": [
    "print(tb.tabulate(\n",
    "    [orderedData,\n",
    "     relatedFrequencies,\n",
    "     accumulatedRelativeFrequencies]))\n",
    "\n",
    "plt.bar(orderedData, accumulatedRelativeFrequencies,\n",
    "        width=(orderedData[-1] - orderedData[0]) / lenOrderedData, color='purple', edgecolor='k')\n",
    "plt.plot(orderedData, accumulatedRelativeFrequencies,\n",
    "        linewidth=2, color='k')\n",
    "plt.title('Sum curve')\n",
    "plt.xlabel('Interal center')\n",
    "plt.ylabel('Frequency')"
   ]
  },
  {
   "cell_type": "markdown",
   "metadata": {},
   "source": [
    "## Task (4)"
   ]
  },
  {
   "cell_type": "code",
   "execution_count": null,
   "metadata": {},
   "outputs": [],
   "source": [
    "MoX, = orderedData[np.where(frequencies == frequencies.max())]\n",
    "MeX = .0\n",
    "half = lenOrderedData / 2\n",
    "if (lenOrderedData % 2 == 0):\n",
    "    MeX = np.round((orderedData[half] + orderedData[half + 1]) / 2, 2)\n",
    "else:\n",
    "    MeX = orderedData[(int(np.round(half, 0)))]\n",
    "\n",
    "u = np.array((orderedData - MoX) / h)\n"
   ]
  },
  {
   "cell_type": "code",
   "execution_count": null,
   "metadata": {},
   "outputs": [],
   "source": [
    "print('Самая частовстречаемая пропускная сп-ть скважин: ', MoX)\n",
    "print('Пропускная сп-ть скважин, делящая данные выборки на равные части: ', MeX)"
   ]
  },
  {
   "cell_type": "code",
   "execution_count": null,
   "metadata": {},
   "outputs": [],
   "source": [
    "x_0 = np.array([\n",
    "    [orderedData[i], frequencies[i], u[i],\n",
    "     frequencies[i] * u[i],\n",
    "     frequencies[i] * u[i]**2,\n",
    "     frequencies[i] * u[i]**3,\n",
    "     frequencies[i] * u[i]**4]\n",
    "    for i in range(lenOrderedData)])\n",
    "\n",
    "m1, m2, m3, m4 = 0, 0, 0, 0\n",
    "\n",
    "for i in range(lenOrderedData):\n",
    "    m1 += x_0[i, 3]\n",
    "    m2 += x_0[i, 4]\n",
    "    m3 += x_0[i, 5]\n",
    "    m4 += x_0[i, 6]\n",
    "\n",
    "m1 /= lenData\n",
    "m2 /= lenData\n",
    "m3 /= lenData\n",
    "m4 /= lenData\n"
   ]
  },
  {
   "cell_type": "code",
   "execution_count": null,
   "metadata": {},
   "outputs": [],
   "source": [
    "headers = [\n",
    "    'Xi', 'Ni', 'Ui', 'Ni * Ui',\n",
    "     'Ni * Ui^2', 'Ni * Ui^3', 'Ni * Ui^4']\n",
    "\n",
    "print(tb.tabulate(x_0, headers=headers, floatfmt='.2f'))"
   ]
  },
  {
   "cell_type": "code",
   "execution_count": null,
   "metadata": {},
   "outputs": [],
   "source": [
    "print(f'M1: {m1:.2f}')\n",
    "print(f'M2: {m2:.2f}')\n",
    "print(f'M3: {m3:.2f}')\n",
    "print(f'M4: {m4:.2f}')\n",
    "s_2 = (m2 - m1**2) * h**2\n",
    "s = np.sqrt(s_2)\n",
    "cA = m1 * h + MoX\n",
    "print(f'Chosen avarage (X̄) (Средняя пропускная способность скважин): {cA:.2f}')\n",
    "print(f'S (Степень рассеяния пропускной способности скважин относительно X̄): {s:.2f}')\n",
    "print(f'V (Колеблеммость значений пр-ой спос-ти скважин): {s / cA:.2f}')\n",
    "m_3 = (m3 - 3 * m2 * m1 + 2 * m1**3) * h**3\n",
    "m_4 = (m4 - 4 * m3 * m1 + 6 * m2 * m1**2 - 3 * m1**4) * h**4\n",
    "As = m_3 / s**3\n",
    "Ex = m_4 / s**4 - 3\n",
    "print(f'As (Отклонения значений пр-ой сп-ти скважин от норм-го распределения): {As:.2f}')\n",
    "print(f'Ex (Отклонения значений пр-ой сп-ти скважин от норм-го распределения): {Ex:.2f}')\n"
   ]
  },
  {
   "cell_type": "markdown",
   "metadata": {},
   "source": [
    "## Task (5)"
   ]
  },
  {
   "cell_type": "code",
   "execution_count": null,
   "metadata": {},
   "outputs": [],
   "source": [
    "ty = 2.009\n",
    "q = 0.21\n",
    "print(f'{cA - s / lenOrderedData * ty:.2f} < a < {cA + s / lenOrderedData * ty:.2f}')\n",
    "print('=> Средняя пропускная способность скважин находится в пределах a')\n",
    "print(f'{s * (1 - q):.2f} < σ < {s * (1 + q):.2f}')\n",
    "print('=> Отклонения истинных значений пр-ой сп-ти скважин не выходят за промежутки σ')\n",
    "\n"
   ]
  },
  {
   "cell_type": "markdown",
   "metadata": {},
   "source": [
    "# Lab 2"
   ]
  },
  {
   "cell_type": "markdown",
   "metadata": {},
   "source": [
    "## Empirical and theoretical curves (1)"
   ]
  },
  {
   "cell_type": "code",
   "execution_count": null,
   "metadata": {},
   "outputs": [],
   "source": [
    "import math\n",
    "import scipy as sc\n",
    "\n",
    "x_0 = [0] * lenOrderedData\n",
    "theoricalFrequencies = [0] * lenOrderedData\n",
    "\n",
    "for i in range(lenOrderedData):\n",
    "    q1 = orderedData[i] - cA\n",
    "    q2 = q1 / s\n",
    "    q3 = sc.stats.norm.cdf(q2) - 0.5\n",
    "    q4 = orderedData[i] * h / s * q3\n",
    "    q5 = np.round(q4, 0)\n",
    "    x_0[i] = [orderedData[i], frequencies[i],\n",
    "              q1, q2, q3, q4, q5]\n",
    "    theoricalFrequencies[i] = q5\n"
   ]
  },
  {
   "cell_type": "code",
   "execution_count": null,
   "metadata": {},
   "outputs": [],
   "source": [
    "headers = [\n",
    "    'Xi', 'Ni', 'Xi - X̄', 'Ui = (Xi - X̄) / S',\n",
    "    'φ(Ui)', 'Yi = nh / S * φ(Ui)', 'N`']\n",
    "\n",
    "print(tb.tabulate(x_0, headers=headers, floatfmt='.2f',\n",
    "      tablefmt=\"github\", numalign='center'))\n"
   ]
  },
  {
   "cell_type": "code",
   "execution_count": null,
   "metadata": {},
   "outputs": [],
   "source": [
    "plt.plot(orderedData, theoricalFrequencies,\n",
    "         color='darkblue', label='Theorical curve', linestyle='--')\n",
    "plt.plot(orderedData, frequencies, color='darkgreen', label='Emperical curve')\n",
    "plt.xlabel('Values Xi')\n",
    "plt.ylabel('Frequency')\n",
    "plt.legend()\n"
   ]
  },
  {
   "cell_type": "markdown",
   "metadata": {},
   "source": [
    "## Checking/Testing"
   ]
  },
  {
   "cell_type": "markdown",
   "metadata": {},
   "source": [
    "### Pearson test"
   ]
  },
  {
   "cell_type": "code",
   "execution_count": null,
   "metadata": {},
   "outputs": [],
   "source": [
    "x_0 = 0\n",
    "k = 4\n",
    "\n",
    "for i in range(lenOrderedData):\n",
    "    f = frequencies[i]\n",
    "    tf = theoricalFrequencies[i]\n",
    "    q1 = f - tf\n",
    "    q2 = q1**2\n",
    "    if tf != 0:\n",
    "        q3 = q2 / tf\n",
    "    else:\n",
    "        q3 = 0\n",
    "    x_0 += q3\n",
    "\n",
    "# In приложение\n",
    "a = 13.277\n",
    "\n",
    "if (x_0 < a):\n",
    "    check = ''\n",
    "else:\n",
    "    check = ' не'\n",
    "\n",
    "print(\n",
    "    f\"Данные выборки, харак-щие пр-ую сп-ть скважин,{check} подчиняются нормальному закону распределения\")\n"
   ]
  },
  {
   "cell_type": "markdown",
   "metadata": {},
   "source": [
    "### Romanovskiy test"
   ]
  },
  {
   "cell_type": "code",
   "execution_count": null,
   "metadata": {},
   "outputs": [],
   "source": [
    "if (np.abs((x_0**2 - k) / np.sqrt(2 * k)) < 3):\n",
    "    check = ' не'\n",
    "    check2 = ''\n",
    "else:\n",
    "    check = ''\n",
    "    check2 = ' не'\n",
    "\n",
    "print(\n",
    "    f\"Расхождение между эмпирическим и теоритическим распределением{check} существенны\\n=>{check2} подчиняются нормальному закону распределения\")\n"
   ]
  },
  {
   "cell_type": "markdown",
   "metadata": {},
   "source": [
    "### Approximate test"
   ]
  },
  {
   "cell_type": "code",
   "execution_count": null,
   "metadata": {},
   "outputs": [],
   "source": [
    "n = lenData\n",
    "SAs = np.sqrt((6 * (n - 1)) / ((n + 1) * (n + 3)))\n",
    "SEx = np.sqrt((24 * n * (n - 2) * (n - 3)) / ((n - 1)**2 * (n + 3) * (n + 5)))\n",
    "\n",
    "if (np.abs(As) > SAs and np.abs(Ex) < SEx):\n",
    "    check = ' не'\n",
    "else:\n",
    "    check = ''\n",
    "\n",
    "print(\n",
    "    f\"Данные выборки, харак-щие пр-ую сп-ть скважин,{check} подчиняются нормальному закону распределения\")\n"
   ]
  }
 ],
 "metadata": {
  "kernelspec": {
   "display_name": "Python 3",
   "language": "python",
   "name": "python3"
  },
  "language_info": {
   "codemirror_mode": {
    "name": "ipython",
    "version": 3
   },
   "file_extension": ".py",
   "mimetype": "text/x-python",
   "name": "python",
   "nbconvert_exporter": "python",
   "pygments_lexer": "ipython3",
   "version": "3.11.0"
  },
  "orig_nbformat": 4
 },
 "nbformat": 4,
 "nbformat_minor": 2
}
