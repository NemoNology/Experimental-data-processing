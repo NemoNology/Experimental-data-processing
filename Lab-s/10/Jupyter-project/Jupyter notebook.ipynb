{
 "cells": [
  {
   "cell_type": "markdown",
   "metadata": {},
   "source": [
    "# Задача идентификации потока экспериментальных данных"
   ]
  },
  {
   "cell_type": "markdown",
   "metadata": {},
   "source": [
    "## Init"
   ]
  },
  {
   "cell_type": "markdown",
   "metadata": {},
   "source": [
    "### Imports"
   ]
  },
  {
   "cell_type": "code",
   "execution_count": 73,
   "metadata": {},
   "outputs": [],
   "source": [
    "import numpy as np\n",
    "import matplotlib.pyplot as plt\n"
   ]
  },
  {
   "cell_type": "markdown",
   "metadata": {},
   "source": [
    "### Def-s"
   ]
  },
  {
   "cell_type": "code",
   "execution_count": 92,
   "metadata": {},
   "outputs": [],
   "source": [
    "def math_expect(s):\n",
    "    \"\"\"Вычисление математического ожидания\"\"\"\n",
    "    return sum(s) / len(s)\n",
    "\n",
    "\n",
    "def dispersion(s, M=None):\n",
    "    \"\"\"Вычисление дисперсии.\n",
    "\n",
    "    Используется M - как математическое ожидание, если оно известно,\n",
    "    иначе вычисляется\n",
    "    \"\"\"\n",
    "    if M is None:\n",
    "        M = math_expect(s)\n",
    "    n = len(s)\n",
    "    D = 0\n",
    "    for i in range(n):\n",
    "        D += (s[i] - M) ** 2\n",
    "    return D / n\n",
    "\n",
    "\n",
    "def white_noize():\n",
    "    s = 0\n",
    "    for i in range(12):\n",
    "        s += np.random.random()\n",
    "    return s - 6\n",
    "\n",
    "\n",
    "def ud_4_normal_dist(M, D):\n",
    "    \"\"\"Вычисление коэффициентов для нормального распределения.\n",
    "\n",
    "    M - математическое ожидание\n",
    "    D - дисперсия\n",
    "    \"\"\"\n",
    "    return M, D ** 0.5\n",
    "\n",
    "\n",
    "def normal_dist_val(lmbd, x):\n",
    "    return  white_noize()* ( 1- np.exp(-lmbd * x ))\n",
    "\n",
    "\n",
    "def count_unten(n: float, min_count=5) -> int:\n",
    "    \"\"\"Возвращает количество десятков в числе.\n",
    "\n",
    "    0.1234 -> 4; 0.11 -> 2; 0.1 -> 1\n",
    "    \"\"\"\n",
    "    i = 0\n",
    "    if n == 0:\n",
    "        return i\n",
    "    flag = False\n",
    "    while True:\n",
    "        n *= 10\n",
    "        mod = int(n) % 10\n",
    "        if not flag and mod != 0:\n",
    "            flag = True\n",
    "        if flag and mod == 0:\n",
    "            break\n",
    "        i += 1\n",
    "        if i >= min_count:\n",
    "            break\n",
    "    return i\n",
    "\n",
    "\n",
    "def identify_random_process(M1: float, M2: float, data: list):\n",
    "    \"\"\"M1 - математическое ожидание 1\n",
    "    M2 - математическое ожидание 2\n",
    "    Возвращает математическое ожидание для данных и определяет, к которому из\n",
    "    них оно относится\n",
    "    ans == 0 - M соответствует M1\n",
    "    ans == 1 - M соответствует M2\n",
    "    ans == 2 - M неопределено\n",
    "    \"\"\"\n",
    "    sub = abs(M2 - M1)\n",
    "    e = 0.01\n",
    "    if sub < 1:\n",
    "        e = 0.1 / 10 ** count_unten(sub)\n",
    "    flag1 = flag2 = False\n",
    "    vals = []\n",
    "    data = data.copy()\n",
    "    lmbd = 0.01\n",
    "    x = 1\n",
    "    while not flag1 and not flag2 and len(data) > 0:\n",
    "        lmbd += 0.01\n",
    "        vals.append(data.pop())\n",
    "        M = 1/lmbd\n",
    "        flag1 = abs(M - M1) <= e\n",
    "        flag2 = abs(M - M2) <= e\n",
    "    if flag1:\n",
    "        ans = 0\n",
    "    elif flag2:\n",
    "        ans = 1\n",
    "    else:\n",
    "        ans = 2\n",
    "    return ans, M\n"
   ]
  },
  {
   "cell_type": "markdown",
   "metadata": {},
   "source": [
    "## Part 1"
   ]
  },
  {
   "cell_type": "markdown",
   "metadata": {},
   "source": [
    "### Implementation"
   ]
  },
  {
   "cell_type": "markdown",
   "metadata": {},
   "source": [
    "#### Logic"
   ]
  },
  {
   "cell_type": "code",
   "execution_count": 75,
   "metadata": {},
   "outputs": [],
   "source": [
    "M1 = M2 = 0\n",
    "while M1 >= M2:\n",
    "    M1 = np.random.uniform(0, 10)\n",
    "    M2 = np.random.uniform(0, 10)\n",
    "D = np.random.uniform(0, 10)\n",
    "sub = abs(M2 - M1)\n",
    "e = 0.01\n",
    "if sub < 1:\n",
    "    e = 0.1 / 10 ** count_unten(sub)\n",
    "M = np.random.choice([M1, M2])\n",
    "vals = []\n",
    "u, d = ud_4_normal_dist(M, D)\n",
    "lmbd = 0.01\n",
    "x=1\n",
    "flag1 = flag2 = False\n",
    "# Проверка \n",
    "while not (flag1 or flag2) and len(vals) < 2e5:\n",
    "    lmbd += 0.01\n",
    "    vals += [normal_dist_val(lmbd, x)]\n",
    "    M = 1 / lmbd\n",
    "    flag1 = abs(M - M1) <= e\n",
    "    flag2 = abs(M - M2) <= e\n"
   ]
  },
  {
   "cell_type": "markdown",
   "metadata": {},
   "source": [
    "#### Output"
   ]
  },
  {
   "cell_type": "code",
   "execution_count": 76,
   "metadata": {},
   "outputs": [
    {
     "name": "stdout",
     "output_type": "stream",
     "text": [
      "Мат. ожид. 'Ню' 1: 0.209\n",
      "Мат. ожид. 'Ню' 2: 5.14\n",
      "Дисперсия '(Сигма?)': 7.852\n",
      "Истинное значение мат. ожидания 'Ню' 1 = 0.219\n"
     ]
    }
   ],
   "source": [
    "print(f\"Мат. ожид. 'Ню' 1: {np.round(M1, 3)}\")\n",
    "print(f\"Мат. ожид. 'Ню' 2: {np.round(M2, 3)}\")\n",
    "print(f\"Дисперсия '(Сигма?)': {np.round(D, 3)}\")\n",
    "print(\"Истинное значение мат. ожидания 'Ню' \" + (\"1\" if flag1 else (\"2\" if flag2 else \"неизвестного\")) + f\" = {np.round(M, 3)}\")"
   ]
  },
  {
   "cell_type": "markdown",
   "metadata": {},
   "source": [
    "## Part 2"
   ]
  },
  {
   "cell_type": "markdown",
   "metadata": {},
   "source": [
    "### Init"
   ]
  },
  {
   "cell_type": "markdown",
   "metadata": {},
   "source": [
    "#### Imports"
   ]
  },
  {
   "cell_type": "code",
   "execution_count": 96,
   "metadata": {},
   "outputs": [],
   "source": [
    "import time"
   ]
  },
  {
   "cell_type": "markdown",
   "metadata": {},
   "source": [
    "### Implementation"
   ]
  },
  {
   "cell_type": "markdown",
   "metadata": {},
   "source": [
    "#### Logic"
   ]
  },
  {
   "cell_type": "code",
   "execution_count": 172,
   "metadata": {},
   "outputs": [],
   "source": [
    "M1 = M2 = D1 = D2 = 0\n",
    "M2 = np.random.uniform(20, 50)\n",
    "D2 = np.random.randint(20, 50)\n",
    "M = np.random.choice([M1, M2])\n",
    "list_T = []\n",
    "list_D = []\n",
    "D = D1\n",
    "lmbd = 0.01\n",
    "while D <= D2:\n",
    "    list_D.append(D)\n",
    "    u, d = ud_4_normal_dist(M, D)\n",
    "    x = 1\n",
    "    data = [normal_dist_val(lmbd, x) for i in range(1000)]\n",
    "    lmbd += 0.01\n",
    "    t0 = time.time_ns()\n",
    "    ans, M = identify_random_process(M1, M2, data)\n",
    "    list_T.append((time.time_ns() - t0) / 1.0e6)\n",
    "    D += 1"
   ]
  },
  {
   "cell_type": "markdown",
   "metadata": {},
   "source": [
    "#### Output"
   ]
  },
  {
   "cell_type": "code",
   "execution_count": 173,
   "metadata": {},
   "outputs": [
    {
     "data": {
      "image/png": "[encoded data removed]",
      "text/plain": [
       "<Figure size 640x480 with 1 Axes>"
      ]
     },
     "metadata": {},
     "output_type": "display_data"
    }
   ],
   "source": [
    "fig, axs = plt.subplots(1, 1, constrained_layout=True)\n",
    "axs.plot(list_D, list_T, 'o', list_D, list_T, '-', color='red')\n",
    "axs.set_title('Зависимость времени идентификации от дисперсии')\n",
    "axs.set_xlabel('Дисперсия, D')\n",
    "axs.set_ylabel('Время, t (мкс)')\n",
    "axs.grid(True)\n",
    "plt.show()"
   ]
  }
 ],
 "metadata": {
  "kernelspec": {
   "display_name": "Python 3",
   "language": "python",
   "name": "python3"
  },
  "language_info": {
   "codemirror_mode": {
    "name": "ipython",
    "version": 3
   },
   "file_extension": ".py",
   "mimetype": "text/x-python",
   "name": "python",
   "nbconvert_exporter": "python",
   "pygments_lexer": "ipython3",
   "version": "3.11.1"
  }
 },
 "nbformat": 4,
 "nbformat_minor": 2
}
