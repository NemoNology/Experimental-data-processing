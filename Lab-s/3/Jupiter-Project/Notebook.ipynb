{
 "cells": [
  {
   "cell_type": "markdown",
   "metadata": {},
   "source": [
    "# Lab 3"
   ]
  },
  {
   "cell_type": "markdown",
   "metadata": {},
   "source": [
    "## Init"
   ]
  },
  {
   "cell_type": "markdown",
   "metadata": {},
   "source": [
    "![Task](image.png)"
   ]
  },
  {
   "cell_type": "code",
   "execution_count": null,
   "metadata": {},
   "outputs": [],
   "source": [
    "import matplotlib.pyplot as plt\n",
    "import numpy as np\n",
    "import tabulate as tb\n",
    "\n",
    "Data = np.array(\n",
    "    [\n",
    "        [1, 2, 3, 4, 5, 6, 7],\n",
    "        [10, 12, 28, 40, 42, 52, 54]\n",
    "    ]\n",
    ", dtype=float)\n",
    "\n",
    "X = np.array(Data[0])\n",
    "Y = np.array(Data[1])\n",
    "\n",
    "lenDataColumns = len(X)\n",
    "# print(tb.tabulate(Data))"
   ]
  },
  {
   "cell_type": "code",
   "execution_count": null,
   "metadata": {},
   "outputs": [],
   "source": [
    "plt.plot(X, Y, label=\"X by Y\")\n",
    "plt.title(\"Relationship between X and Y\")\n",
    "plt.xlabel(\"X\")\n",
    "plt.ylabel(\"Y\")\n",
    "\n",
    "# trend line\n",
    "p = np.poly1d(np.polyfit(X, Y, 1))\n",
    "plt.plot(X, p(X), label=\"Trend line\", color=\"gray\", linestyle='--')\n",
    "plt.legend()\n"
   ]
  },
  {
   "cell_type": "markdown",
   "metadata": {},
   "source": [
    "## Numerical characteristics"
   ]
  },
  {
   "cell_type": "code",
   "execution_count": null,
   "metadata": {},
   "outputs": [],
   "source": [
    "res = np.zeros((lenDataColumns, 8), dtype=float)\n",
    "avarageX = np.average(X)\n",
    "avarageY = np.average(Y)\n",
    "\n",
    "for i in range(lenDataColumns):\n",
    "    x, y = X[i], Y[i]\n",
    "    qX = x - avarageX\n",
    "    qY = y - avarageY\n",
    "    res[i] = [x, qX, qX**2, y, qY, qY**2, x**2, x*y]\n"
   ]
  },
  {
   "cell_type": "code",
   "execution_count": null,
   "metadata": {},
   "outputs": [],
   "source": [
    "headers = [\"xi\", \"xi - avg(x)\", \"(xi - avg(x))^2\", \"yi\",\n",
    "           \"yi - avg(y)\", \"(yi - avg(y))^2\", \"xi^2\", \"xi * yi\"]\n",
    "\n",
    "buffer = np.sum(res[:, -2])\n",
    "\n",
    "print(tb.tabulate(res, headers=headers))\n"
   ]
  },
  {
   "cell_type": "code",
   "execution_count": null,
   "metadata": {},
   "outputs": [],
   "source": [
    "Sx = np.sqrt(np.sum(res[:, 2]) / (lenDataColumns - 1))\n",
    "Sy = np.sqrt(np.sum(res[:, -3]) / (lenDataColumns - 1))\n",
    "avarageXY = np.average(res[:, -1])\n",
    "r = (avarageXY - avarageX * avarageY) / (Sx * Sy)\n",
    "tp = (np.abs(r) * np.sqrt(lenDataColumns - 2))  / (np.sqrt(1 - r**2))\n",
    "\n",
    "k = lenDataColumns - 2 # k = 5\n",
    "tT = 2.015 # Приложение\n",
    "ty = 2.45 # Приложение"
   ]
  },
  {
   "cell_type": "markdown",
   "metadata": {},
   "source": [
    "## Confidence interval"
   ]
  },
  {
   "cell_type": "code",
   "execution_count": null,
   "metadata": {},
   "outputs": [],
   "source": [
    "if (tp > tT):\n",
    "    check = \">\", \"\"\n",
    "else:\n",
    "    check = \"<\", \" не\"\n",
    "\n",
    "print(f\"tp {check[0]} tT => Выборочный коэфициент корреляции{check[1]} отличается от нуля\")\n",
    "print(f\"\\t=> Можно предположить, что месячный выпуск Y и стоимость X продукции{check[1]} связаны линейной корреляционной зависимостью\")\n",
    "\n",
    "print(f\"Доверительный интервал:\\t{(r - ty * tp):.3f} <= {tp:.3f} <= {(r + ty * tp):.3f}\\nили r => [{(r - ty * tp):.3f}; {(r + ty * tp):.3f}]\")"
   ]
  },
  {
   "cell_type": "markdown",
   "metadata": {},
   "source": [
    "## Empirical equations"
   ]
  },
  {
   "cell_type": "code",
   "execution_count": null,
   "metadata": {},
   "outputs": [],
   "source": [
    "def regressionYonX(v):\n",
    "    return avarageY + r * Sy / Sx * (v - avarageX)\n",
    "\n",
    "\n",
    "def regressionXonY(v):\n",
    "    return avarageX + r * Sx / Sy * (v - avarageY)\n",
    "\n",
    "\n",
    "qx = [regressionXonY(x) for x in X]\n",
    "qy = [regressionYonX(y) for y in Y]\n",
    "\n"
   ]
  },
  {
   "cell_type": "code",
   "execution_count": null,
   "metadata": {},
   "outputs": [],
   "source": [
    "print(f\"X after regression X on Y: {np.round(qx, 3)}\")\n",
    "print(f\"Y after regression Y on X: {np.round(qy, 3)}\")\n",
    "print(f\"X` avarage: {(np.average(np.diff(qx))):.3f}\", )\n",
    "print(f\"Y` avarage: {(np.average(np.diff(qy))):.3f}\")"
   ]
  },
  {
   "cell_type": "markdown",
   "metadata": {},
   "source": [
    "## Coefficient of determination"
   ]
  },
  {
   "cell_type": "code",
   "execution_count": null,
   "metadata": {},
   "outputs": [],
   "source": [
    "persent = np.round(r**2, 3) * 100\n",
    "\n",
    "print(f\"\"\"\n",
    "r^2 = {persent};\n",
    "Это означает, что {persent}% рассеивания месячного выпуска продукции \n",
    "объясняется линейной корреляционной зависимостью между месячного выпуска продукци\n",
    "и стоимостью средств предприятий, и только {np.round(100 - persent, 3)}% рассеивания \n",
    "месячного выпуска продукции  остались необъяснимыми. \n",
    "Такое положение могло произойти из-за того, что в модель не идеальна, \n",
    "либо опытных данных в данной выборке недостаточно, \n",
    "чтобы построить более надежное уравнение регрессии.\n",
    "\"\"\")\n"
   ]
  },
  {
   "cell_type": "markdown",
   "metadata": {},
   "source": [
    "## Checking the adequacy of the regression equation y on x"
   ]
  },
  {
   "cell_type": "code",
   "execution_count": null,
   "metadata": {},
   "outputs": [],
   "source": [
    "res = np.zeros((lenDataColumns, 4))\n",
    "\n",
    "for i in range(lenDataColumns):\n",
    "    qy = regressionYonX(Y[i])\n",
    "    q0 = Y[i] - qy\n",
    "    res[i] = [Y[i], qy, q0, q0**2]\n",
    "\n",
    "buffer = np.array(res[:, 2])\n",
    "buffer1 = np.array(res[:, -1])\n",
    "\n",
    "headers = [\"yi\", \"y`\", \"yi - y`\", \"(yi - y`)^2\"]"
   ]
  },
  {
   "cell_type": "code",
   "execution_count": null,
   "metadata": {},
   "outputs": [],
   "source": [
    "print(tb.tabulate(res, headers=headers))"
   ]
  },
  {
   "cell_type": "code",
   "execution_count": null,
   "metadata": {},
   "outputs": [],
   "source": [
    "r2 = 1 - np.sum(res[:, -1]) / np.sum(buffer)\n",
    "Fh = np.round((r2 * k) / (1 - r2), 3)\n",
    "\n",
    "Ft = 5.79  # Приложение\n",
    "\n",
    "if (Fh > Ft):\n",
    "    check = \">\", \"\"\n",
    "else:\n",
    "    check = \"<\", \" не\"\n",
    "\n",
    "print(f\"\"\"\n",
    "Fh ({Fh}) {check[0]} Ft ({Ft}) =>\n",
    "Уравнение линейной регрессии Y на X{check[1]} значимо описывает результаты эксперимента\n",
    "      \"\"\")\n"
   ]
  },
  {
   "cell_type": "markdown",
   "metadata": {},
   "source": [
    "## Regression equation y on x error value "
   ]
  },
  {
   "cell_type": "code",
   "execution_count": null,
   "metadata": {},
   "outputs": [],
   "source": [
    "# buffer and buffer1  (yi - y`) and (yi - y`)^2\n",
    "avarage_u = np.average(buffer1)\n",
    "buffer1 = np.sum(np.array([(u - avarage_u)**2 for u in buffer]))\n",
    "error_value = np.sqrt(buffer1 / k)\n",
    "\n",
    "res = np.zeros((lenDataColumns, 3))\n",
    "\n",
    "for i in range(lenDataColumns):\n",
    "    q1 = buffer[i] - avarage_u\n",
    "    q2 = q1**2\n",
    "    res[i] = [buffer[i], q1, q2]\n"
   ]
  },
  {
   "cell_type": "code",
   "execution_count": null,
   "metadata": {},
   "outputs": [],
   "source": [
    "print(tb.tabulate(res, headers=[\n",
    "      'ui', 'ui - u(avg)', '(ui - u(avg))^2'], floatfmt='.3f'))\n"
   ]
  },
  {
   "cell_type": "code",
   "execution_count": 65,
   "metadata": {},
   "outputs": [
    {
     "data": {
      "text/plain": [
       "1703.489747538538"
      ]
     },
     "execution_count": 65,
     "metadata": {},
     "output_type": "execute_result"
    }
   ],
   "source": [
    "lambda_u = np.sqrt(np.sum(res[: -1]) / k)\n",
    "error = lambda_u / avarageY\n",
    "error\n",
    "e = .20\n",
    "\n",
    "if (error < e):\n",
    "    check = ''\n",
    "else:\n",
    "    check = ' не'\n",
    "\n",
    "print(f'''\n",
    "Так как величина погрешности{check} мала \n",
    "=> уровнение линейной регрессии Y на X{check} хорошо описывает опытные данные \n",
    "      '''\n",
    "      )\n"
   ]
  },
  {
   "cell_type": "code",
   "execution_count": null,
   "metadata": {},
   "outputs": [],
   "source": [
    "# TODO: coef-s errors (page 23)"
   ]
  }
 ],
 "metadata": {
  "kernelspec": {
   "display_name": "Python 3",
   "language": "python",
   "name": "python3"
  },
  "language_info": {
   "codemirror_mode": {
    "name": "ipython",
    "version": 3
   },
   "file_extension": ".py",
   "mimetype": "text/x-python",
   "name": "python",
   "nbconvert_exporter": "python",
   "pygments_lexer": "ipython3",
   "version": "3.11.1"
  },
  "orig_nbformat": 4
 },
 "nbformat": 4,
 "nbformat_minor": 2
}
