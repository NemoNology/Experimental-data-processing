{
 "cells": [
  {
   "cell_type": "markdown",
   "metadata": {},
   "source": [
    "# Lab 4"
   ]
  },
  {
   "cell_type": "markdown",
   "metadata": {},
   "source": [
    "## Init data"
   ]
  },
  {
   "cell_type": "markdown",
   "metadata": {},
   "source": [
    "### Task and init data tast"
   ]
  },
  {
   "cell_type": "markdown",
   "metadata": {},
   "source": [
    "![Task](image.png)"
   ]
  },
  {
   "cell_type": "code",
   "execution_count": null,
   "metadata": {},
   "outputs": [],
   "source": [
    "import matplotlib.pyplot as plt\n",
    "import numpy as np\n",
    "from tabulate import tabulate as tb\n",
    "\n",
    "X = np.array([i+1 for i in range(5)])\n",
    "Y = np.array([2 + 0.5 * i for i in range(5)])\n",
    "\n",
    "lenData = len(X)\n",
    "nan = np.nan\n",
    "fmt_number = '%.3f'\n",
    "\n",
    "Data = np.array(\n",
    "    [\n",
    "        [nan, nan, nan, 3, 4],\n",
    "        [nan, nan, 5, 3, 5],\n",
    "        [nan, 3, 6, 4, nan],\n",
    "        [4, 4, 2, 2, nan],\n",
    "        [1, 4, nan, nan, nan]\n",
    "    ]\n",
    ")\n",
    "\n",
    "ny_SumsOfYInData = np.array([np.nansum(Data[i, :]) for i in range(lenData)])\n",
    "nx_SumsOfYInData = np.array([np.nansum(Data[:, i]) for i in range(lenData)])\n"
   ]
  },
  {
   "cell_type": "markdown",
   "metadata": {},
   "source": [
    "### Init functions"
   ]
  },
  {
   "cell_type": "markdown",
   "metadata": {},
   "source": [
    "#### to_strings"
   ]
  },
  {
   "cell_type": "code",
   "execution_count": null,
   "metadata": {},
   "outputs": [],
   "source": [
    "def to_strings(a: np.ndarray):\n",
    "    tp = type('')\n",
    "    res = a.copy()\n",
    "    match(res.ndim):\n",
    "        case 1: res = np.array([str(np.round(x, 3)) for x in a], tp)\n",
    "        case 2:\n",
    "            for i in range(a.shape[0]):\n",
    "                temp = np.array([str(np.round(x, 3)) for x in res[i]], tp)\n",
    "                res[i] = temp\n",
    "        case _:\n",
    "            raise Exception('Unhandled ndarray dimentails amount')\n",
    "\n",
    "    return res\n"
   ]
  },
  {
   "cell_type": "markdown",
   "metadata": {},
   "source": [
    "#### tabulate"
   ]
  },
  {
   "cell_type": "code",
   "execution_count": null,
   "metadata": {},
   "outputs": [],
   "source": [
    "def tabulate(a: np.ndarray, col_headers: np.ndarray = [], row_headers: np.ndarray = []):\n",
    "    a_copy = a.copy()\n",
    "    row_amount = a_copy.shape[0]\n",
    "    if (len(row_headers) != 0 and row_amount != len(row_headers)):\n",
    "        raise Exception(\n",
    "            \"Length of rows headers array must be equal input array rows count\")\n",
    "    match(len(a.shape)):\n",
    "        case 1: raise Exception(\"Array must have more than one dimention\")\n",
    "        case 2:\n",
    "            col_amount = a_copy.shape[1]\n",
    "            colheaders_count = len(col_headers)\n",
    "            if (colheaders_count > 0):\n",
    "                col_amount += 1\n",
    "            if (colheaders_count != 0 and col_amount != colheaders_count):\n",
    "                raise Exception(\n",
    "                    \"Length of columns headers array must be equal input array columns count\")\n",
    "            if (len(row_headers) != 0):\n",
    "                res = [[]\n",
    "                       for i in range(row_amount)]\n",
    "                for i in range(row_amount):\n",
    "                    res[i].append(row_headers[i])\n",
    "                    for x in to_strings(a_copy[i]):\n",
    "                        res[i].append(x)\n",
    "            else:\n",
    "                res = a_copy\n",
    "        case _:\n",
    "            raise Exception('Unhandled ndarray shape situation')\n",
    "\n",
    "    print(tb(res, headers=col_headers,\n",
    "          tablefmt='rounded_grid', numalign='center'))\n"
   ]
  },
  {
   "cell_type": "markdown",
   "metadata": {},
   "source": [
    "### Data output"
   ]
  },
  {
   "cell_type": "code",
   "execution_count": null,
   "metadata": {},
   "outputs": [],
   "source": [
    "tabulate(Data, np.concatenate([[\n",
    "    '''   \\  X\n",
    "Y  \\\\'''], to_strings(X)]), to_strings(Y))\n"
   ]
  },
  {
   "cell_type": "markdown",
   "metadata": {},
   "source": [
    "## Correlation field"
   ]
  },
  {
   "cell_type": "code",
   "execution_count": null,
   "metadata": {},
   "outputs": [],
   "source": [
    "# trend line\n",
    "start = (np.flip(X)[0] + np.flip(Y)[0]) / 2\n",
    "qr = (((np.flip(X)[-1] + np.flip(Y)[-1]) / 2) - start) / lenData\n",
    "\n",
    "tl = [start + qr * i for i in range(lenData)]\n",
    "values_y_notnan = [None] * lenData\n",
    "\n",
    "plt.plot(np.flip(Y), X, label='Y / X')\n",
    "plt.plot(np.flip(X), Y, label='X / Y')\n",
    "plt.plot(tl, Y, label='Trend line', c='gray', ls='--')\n",
    "for i in range(lenData):\n",
    "    values_y_notnan[i] = Y[~np.isnan(Data[:, i])]\n",
    "    l = len(values_y_notnan[i])\n",
    "    plt.scatter(np.repeat(X[i], l), values_y_notnan[i], c='black')\n",
    "\n",
    "\n",
    "plt.title('Correlation field')\n",
    "plt.xlabel('X')\n",
    "plt.ylabel('Y')\n",
    "plt.legend()\n"
   ]
  },
  {
   "cell_type": "markdown",
   "metadata": {},
   "source": [
    "## Least squares regression line equation"
   ]
  },
  {
   "cell_type": "markdown",
   "metadata": {},
   "source": [
    "### Plot"
   ]
  },
  {
   "cell_type": "code",
   "execution_count": null,
   "metadata": {},
   "outputs": [],
   "source": [
    "y_avarage_xj = np.zeros(lenData)\n",
    "values_data_notnan_byX = [None] * lenData\n",
    "values_data_notnan_byY = [None] * lenData\n",
    "\n",
    "for i in range(lenData):\n",
    "    q = Data[:, i]\n",
    "    q1 = Data[i, :]\n",
    "    values_data_notnan_byX[i] = q[~np.isnan(q)]\n",
    "    values_data_notnan_byY[i] = q1[~np.isnan(q1)]\n",
    "    y_avarage_xj[i] = np.sum(values_data_notnan_byX[i]) * \\\n",
    "        Y[i] / nx_SumsOfYInData[i]\n",
    "\n",
    "plt.scatter(X, y_avarage_xj, c=\"black\")\n",
    "plt.plot(X, Y, label='X on Y')\n",
    "plt.xlabel('X')\n",
    "plt.ylabel('Y')\n",
    "plt.legend()\n",
    "# NOTE: if otklonenia znachitelni -> change the meaning of text below\n",
    "print('''\n",
    "Видно, что отклонения точек от построенной\n",
    "прямой незначительны. Следовательно, связь между признаками\n",
    "X и Y может носить линейный характер\n",
    "''')\n"
   ]
  },
  {
   "cell_type": "markdown",
   "metadata": {},
   "source": [
    "### The least squares method"
   ]
  },
  {
   "cell_type": "markdown",
   "metadata": {},
   "source": [
    "#### Table"
   ]
  },
  {
   "cell_type": "code",
   "execution_count": null,
   "metadata": {},
   "outputs": [],
   "source": [
    "nxy = np.sum(nx_SumsOfYInData) + np.sum(ny_SumsOfYInData)\n",
    "\n",
    "res = np.zeros((lenData + 6, lenData))\n",
    "\n",
    "print(values_y_notnan)\n",
    "\n",
    "for i in range(lenData):\n",
    "    res[i] = Data[i]\n",
    "res[lenData] = nx_SumsOfYInData\n",
    "res[lenData + 1] = ny_SumsOfYInData\n",
    "res[lenData + 2] = [nx_SumsOfYInData[i] * X[i] for i in range(lenData)]\n",
    "res[lenData + 3] = [ny_SumsOfYInData[i] * Y[i] for i in range(lenData)]\n",
    "res[lenData + 4] = [nx_SumsOfYInData[i] * X[i]**2 for i in range(lenData)]\n",
    "res[lenData + 5] = [np.sum([X[i] * values_y_notnan[i][j] * values_data_notnan_byX[i][j]\n",
    "                            for j in range(len(values_y_notnan[i]))]) for i in range(lenData)]\n"
   ]
  },
  {
   "cell_type": "code",
   "execution_count": null,
   "metadata": {},
   "outputs": [],
   "source": [
    "cols = np.append([\n",
    "    ''' \\ X\n",
    "Y \\\\'''], to_strings(X))\n",
    "rows = np.append(to_strings(\n",
    "    Y), ['nx', 'ny', 'nx * x', 'ny * y', 'nx * x^2', 'nxy_xy'])\n",
    "\n",
    "tabulate(res, cols, rows)"
   ]
  },
  {
   "cell_type": "markdown",
   "metadata": {},
   "source": [
    "#### The equation"
   ]
  },
  {
   "cell_type": "code",
   "execution_count": null,
   "metadata": {},
   "outputs": [],
   "source": [
    "qr = np.sum(res[lenData + 2])\n",
    "m = np.array([[nxy, qr],\n",
    "             [qr, np.sum(res[lenData + 4])]])\n",
    "v = np.array([np.sum(res[lenData + 3]),\n",
    "              np.sum(res[lenData + 5])])\n",
    "\n",
    "solved_equation_koefs = np.linalg.solve(m, v)\n",
    "\n",
    "\n",
    "def linear_regression_equation(x: float):\n",
    "    return solved_equation_koefs[0] * x + solved_equation_koefs[1]\n"
   ]
  },
  {
   "cell_type": "code",
   "execution_count": null,
   "metadata": {},
   "outputs": [],
   "source": [
    "data_maximum = np.max([np.max(values_data_notnan_byX[i])\n",
    "                      for i in range(lenData)])\n",
    "indices_info = np.where(Data == data_maximum)\n",
    "data_maximum_x, data_maximum_y = indices_info[0][0], indices_info[1][0]\n",
    "x_step = np.average(np.diff(X))\n",
    "y_step = np.average(np.diff(Y))\n",
    "c1 = data_maximum_x\n",
    "c2 = data_maximum_y\n",
    "U = np.arange(data_maximum_x + 1 - lenData, lenData - data_maximum_x)\n",
    "V = np.arange(data_maximum_y + 1 - lenData, lenData - data_maximum_y)\n",
    "\n",
    "u_avarage = np.sum([np.sum(values_data_notnan_byX[i]) *\n",
    "                    U[i] for i in range(lenData)]) / nxy\n",
    "v_avarage = np.sum([np.sum(values_data_notnan_byY[i]) *\n",
    "                    V[i] for i in range(lenData)]) / nxy\n",
    "\n",
    "u_2_avarage = np.sum([np.sum(values_data_notnan_byX[i]) *\n",
    "                      U[i]**2 for i in range(lenData)]) / nxy\n",
    "v_2_avarage = np.sum([np.sum(values_data_notnan_byY[i]) *\n",
    "                      V[i]**2 for i in range(lenData)]) / nxy\n",
    "\n",
    "Su = np.sqrt(u_2_avarage - u_avarage**2)\n",
    "Sv = np.sqrt(v_2_avarage - v_avarage**2)\n",
    "\n",
    "values_U_notnan = [None] * lenData\n",
    "values_V_notnan = [None] * lenData\n",
    "\n",
    "# print(values_data_notnan_byU)\n",
    "\n",
    "for i in range(lenData):\n",
    "    values_U_notnan[i] = U[~np.isnan(Data[:, i])]\n",
    "    values_V_notnan[i] = V[~np.isnan(Data[:, i])]\n",
    "\n",
    "nujvi_ujvi = np.sum([np.sum([(values_U_notnan[i][j]\n",
    "                              * values_V_notnan[i][j]\n",
    "                              * values_data_notnan_byX[i][j]) for j in range(\n",
    "    len(values_data_notnan_byX[i]))]) for i in range(lenData)])\n"
   ]
  },
  {
   "cell_type": "code",
   "execution_count": null,
   "metadata": {},
   "outputs": [],
   "source": [
    "rb = (nujvi_ujvi - nxy * u_avarage * v_avarage) / (nxy * Su * Sv)\n",
    "x_avarage_new = u_avarage * x_step + c1\n",
    "y_avarage_new = v_avarage * y_step + c2\n",
    "Sx = Su * x_step\n",
    "Sy = Sv * y_step\n",
    "\n",
    "\n",
    "def linear_regression_equation_YonX(x: float):\n",
    "    return y_avarage_new + rb * (Sy / Sx) * (x - x_avarage_new)\n"
   ]
  },
  {
   "cell_type": "markdown",
   "metadata": {},
   "source": [
    "## Checking the tightness of the connection between Y and X"
   ]
  },
  {
   "cell_type": "markdown",
   "metadata": {},
   "source": [
    "### Task 4"
   ]
  },
  {
   "cell_type": "code",
   "execution_count": null,
   "metadata": {},
   "outputs": [],
   "source": [
    "n = lenData**2\n",
    "k = n - 2\n",
    "tak = 1.714  # Приложение\n",
    "tH = (np.abs(rb) * np.sqrt(k)) / (np.sqrt(1 - rb**2))\n"
   ]
  },
  {
   "cell_type": "code",
   "execution_count": null,
   "metadata": {},
   "outputs": [],
   "source": [
    "check = '>', ''\n",
    "\n",
    "if (tH < tak):\n",
    "    check = '<', ' не'\n",
    "\n",
    "example_x = 10\n",
    "\n",
    "print(f'''\n",
    "    Т.к. tH = {np.round(tH, 3)} {check[0]} {tak} (tak) =>\n",
    "Выборочный коеффициент линейной корреляции rb{check[1]} отличается от нуля.\n",
    "    Следовательно, можно считать, что отклонение объёма продукций\n",
    "и её себестоимости{check[1]} связаны линейной корреляционной зависимостью.\n",
    "    Из уравнения регрессии видно, что при отклонении от\n",
    "нормальных значений объёма продукции (xj), например на {example_x} тыс. руб,\n",
    "отклонение от нормального значения обёма продукции составит примерно {np.round(solved_equation_koefs[0] * example_x, 3)} тыс. руб.\n",
    "    Фактически отклонение может составить {np.round(linear_regression_equation(example_x), 3)} тыс. руб,\n",
    "что является результатом воздействия неучтенных в модели факторов, \n",
    "не зависящих от отклонений при распределении предприятий.\n",
    "''')\n"
   ]
  },
  {
   "cell_type": "markdown",
   "metadata": {},
   "source": [
    "### Task 5"
   ]
  },
  {
   "cell_type": "code",
   "execution_count": null,
   "metadata": {},
   "outputs": [],
   "source": [
    "Q = np.sum([(Y[i] - y_avarage_new)**2 for i in range(lenData)])\n",
    "QR = np.sum([(linear_regression_equation_YonX(X[i]) -\n",
    "            y_avarage_new)**2 for i in range(lenData)])\n",
    "Qe = Q - QR\n",
    "\n",
    "FH = (QR * k) / (Qe * (lenData - 1))\n",
    "FT = 5.5  # Приложение\n"
   ]
  },
  {
   "cell_type": "code",
   "execution_count": null,
   "metadata": {},
   "outputs": [],
   "source": [
    "check = '>', ''\n",
    "if (FH < FT):\n",
    "    check = '<', ' не'\n",
    "\n",
    "print(f'''\n",
    "    Т.к. FH = {np.round(FH, 3)} {check[0]} {FT} (FT) =>\n",
    "Модель линейной регрессии y_x = {np.round(solved_equation_koefs[0], 3)}x + {np.round(solved_equation_koefs[1], 3)}{check[1]} согласуется с опытными данными\n",
    "''')\n"
   ]
  },
  {
   "cell_type": "code",
   "execution_count": 190,
   "metadata": {},
   "outputs": [
    {
     "name": "stdout",
     "output_type": "stream",
     "text": [
      "\n",
      "Итак, мы получили два уравнения линий регрессии y на x,\n",
      "описывающих зависимость между признаками X и Y. При\n",
      "подстановке в каждое из них опытных значений признака X\n",
      "убеждаемся в том, что уравнение регрессии, полученное по\n",
      "методу наименьших квадратов без использования коэффициента\n",
      "линейной корреляции r, дает лучшие значения признака Y.\n",
      "\n"
     ]
    }
   ],
   "source": [
    "print('''\n",
    "Итак, мы получили два уравнения линий регрессии y на x,\n",
    "описывающих зависимость между признаками X и Y. При\n",
    "подстановке в каждое из них опытных значений признака X\n",
    "убеждаемся в том, что уравнение регрессии, полученное по\n",
    "методу наименьших квадратов без использования коэффициента\n",
    "линейной корреляции r, дает лучшие значения признака Y.\n",
    "''')"
   ]
  }
 ],
 "metadata": {
  "kernelspec": {
   "display_name": "Python 3",
   "language": "python",
   "name": "python3"
  },
  "language_info": {
   "codemirror_mode": {
    "name": "ipython",
    "version": 3
   },
   "file_extension": ".py",
   "mimetype": "text/x-python",
   "name": "python",
   "nbconvert_exporter": "python",
   "pygments_lexer": "ipython3",
   "version": "3.11.1"
  },
  "orig_nbformat": 4
 },
 "nbformat": 4,
 "nbformat_minor": 2
}
