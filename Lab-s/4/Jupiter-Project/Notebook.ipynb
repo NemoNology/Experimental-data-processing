{
 "cells": [
  {
   "cell_type": "markdown",
   "metadata": {},
   "source": [
    "# Lab 4"
   ]
  },
  {
   "cell_type": "markdown",
   "metadata": {},
   "source": [
    "## Init data"
   ]
  },
  {
   "cell_type": "markdown",
   "metadata": {},
   "source": [
    "### Task and init data tast"
   ]
  },
  {
   "cell_type": "markdown",
   "metadata": {},
   "source": [
    "![Task](image.png)"
   ]
  },
  {
   "cell_type": "code",
   "execution_count": null,
   "metadata": {},
   "outputs": [],
   "source": [
    "import matplotlib.pyplot as plt\n",
    "import numpy as np\n",
    "from tabulate import tabulate as tb\n",
    "\n",
    "X = np.array([i+1 for i in range(5)])\n",
    "Y = np.array([2 + 0.5 * i for i in range(5)])\n",
    "\n",
    "lenData = len(X)\n",
    "nan = np.nan\n",
    "fmt_number = '%.3f'\n",
    "\n",
    "Data = np.array(\n",
    "    [\n",
    "        [nan, nan, nan, 3, 4],\n",
    "        [nan, nan, 5, 3, 5],\n",
    "        [nan, 3, 6, 4, nan],\n",
    "        [4, 4, 2, 2, nan],\n",
    "        [1, 4, nan, nan, nan]\n",
    "    ]\n",
    ")\n",
    "\n",
    "ny_SumsOfYInData = np.array([np.nansum(Data[i, :]) for i in range(lenData)])\n",
    "nx_SumsOfYInData = np.array([np.nansum(Data[:, i]) for i in range(lenData)])\n"
   ]
  },
  {
   "cell_type": "markdown",
   "metadata": {},
   "source": [
    "### Init functions"
   ]
  },
  {
   "cell_type": "markdown",
   "metadata": {},
   "source": [
    "#### to_strings"
   ]
  },
  {
   "cell_type": "code",
   "execution_count": null,
   "metadata": {},
   "outputs": [],
   "source": [
    "def to_strings(a: np.ndarray):\n",
    "    tp = type('')\n",
    "    res = a.copy()\n",
    "    match(res.ndim):\n",
    "        case 1: res = np.array([str(np.round(x, 3)) for x in a], tp)\n",
    "        case 2:\n",
    "            for i in range(a.shape[0]):\n",
    "                temp = np.array([str(np.round(x, 3)) for x in res[i]], tp)\n",
    "                res[i] = temp\n",
    "        case _:\n",
    "            raise Exception('Unhandled ndarray dimentails amount')\n",
    "\n",
    "    return res\n"
   ]
  },
  {
   "cell_type": "markdown",
   "metadata": {},
   "source": [
    "#### tabulate"
   ]
  },
  {
   "cell_type": "code",
   "execution_count": null,
   "metadata": {},
   "outputs": [],
   "source": [
    "def tabulate(a: np.ndarray, col_headers: np.ndarray = [], row_headers: np.ndarray = []):\n",
    "    a_copy = a.copy()\n",
    "    row_amount = a_copy.shape[0]\n",
    "    if (len(row_headers) != 0 and row_amount != len(row_headers)):\n",
    "        raise Exception(\n",
    "            \"Length of rows headers array must be equal input array rows count\")\n",
    "    match(len(a.shape)):\n",
    "        case 1: raise Exception(\"Array must have more than one dimention\")\n",
    "        case 2:\n",
    "            col_amount = a_copy.shape[1]\n",
    "            colheaders_count = len(col_headers)\n",
    "            if (colheaders_count > 0):\n",
    "                col_amount += 1\n",
    "            if (colheaders_count != 0 and col_amount != colheaders_count):\n",
    "                raise Exception(\n",
    "                    \"Length of columns headers array must be equal input array columns count\")\n",
    "            if (len(row_headers) != 0):\n",
    "                res = [[]\n",
    "                       for i in range(row_amount)]\n",
    "                for i in range(row_amount):\n",
    "                    res[i].append(row_headers[i])\n",
    "                    for x in to_strings(a_copy[i]):\n",
    "                        res[i].append(x)\n",
    "            else:\n",
    "                res = a_copy\n",
    "        case _:\n",
    "            raise Exception('Unhandled ndarray shape situation')\n",
    "\n",
    "    print(tb(res, headers=col_headers,\n",
    "          tablefmt='rounded_grid', numalign='center'))\n"
   ]
  },
  {
   "cell_type": "markdown",
   "metadata": {},
   "source": [
    "### Data output"
   ]
  },
  {
   "cell_type": "code",
   "execution_count": null,
   "metadata": {},
   "outputs": [],
   "source": [
    "tabulate(Data, np.concatenate([[\n",
    "    '''   \\  X\n",
    "Y  \\\\'''], to_strings(X)]), to_strings(Y))\n"
   ]
  },
  {
   "cell_type": "markdown",
   "metadata": {},
   "source": [
    "## Correlation field"
   ]
  },
  {
   "cell_type": "code",
   "execution_count": null,
   "metadata": {},
   "outputs": [],
   "source": [
    "# trend line\n",
    "start = (np.flip(X)[0] + np.flip(Y)[0]) / 2\n",
    "q = (((np.flip(X)[-1] + np.flip(Y)[-1]) / 2) - start) / lenData\n",
    "\n",
    "tl = [start + q * i for i in range(lenData)]\n",
    "\n",
    "notnanData = [[0, [], []] for i in range(lenData)]\n",
    "\n",
    "for i in range(lenData):\n",
    "    notnanData[i][0] = X[i]\n",
    "    for k in range(lenData):\n",
    "        if (np.isnan(Data[k, i])):\n",
    "            continue\n",
    "        notnanData[i][1].append(Y[k])\n",
    "        notnanData[i][2].append(Data[k, i])\n",
    "\n",
    "plt.plot(np.flip(Y), X, label='Y / X')\n",
    "plt.plot(np.flip(X), Y, label='X / Y')\n",
    "plt.plot(tl, Y, label='Trend line', c='gray', ls='--')\n",
    "for i in range(lenData):\n",
    "    ys = notnanData[i][1]\n",
    "    plt.scatter([notnanData[i][0]\n",
    "                for j in range(len(ys))], ys, c='black')\n",
    "plt.title('Correlation field')\n",
    "plt.xlabel('X')\n",
    "plt.ylabel('Y')\n",
    "plt.legend()\n"
   ]
  },
  {
   "cell_type": "markdown",
   "metadata": {},
   "source": [
    "## Least squares regression line equation"
   ]
  },
  {
   "cell_type": "markdown",
   "metadata": {},
   "source": [
    "### Plot"
   ]
  },
  {
   "cell_type": "code",
   "execution_count": null,
   "metadata": {},
   "outputs": [],
   "source": [
    "y_avarage_xj = np.zeros(lenData)\n",
    "\n",
    "for i in range(lenData):\n",
    "    q = np.sum(notnanData[i][-1]) * Y[i]\n",
    "    y_avarage_xj[i] = q / nx_SumsOfYInData[i]\n",
    "\n",
    "plt.scatter(X, y_avarage_xj, c=\"black\")\n",
    "plt.plot(X, Y, label='X on Y')\n",
    "plt.xlabel('X')\n",
    "plt.ylabel('Y')\n",
    "plt.legend()\n",
    "print('''\n",
    "Видно, что отклонения точек от построенной\n",
    "прямой незначительны. Следовательно, связь между признаками\n",
    "X и Y может носить линейный характер\n",
    "''')\n"
   ]
  },
  {
   "cell_type": "markdown",
   "metadata": {},
   "source": [
    "### The least squares method"
   ]
  },
  {
   "cell_type": "markdown",
   "metadata": {},
   "source": [
    "#### Table"
   ]
  },
  {
   "cell_type": "code",
   "execution_count": null,
   "metadata": {},
   "outputs": [],
   "source": [
    "nxy = np.sum(nx_SumsOfYInData) + np.sum(ny_SumsOfYInData)\n",
    "\n",
    "res = np.zeros((lenData + 6, lenData))\n",
    "\n",
    "for i in range(lenData):\n",
    "    res[i] = Data[i]\n",
    "res[lenData] = nx_SumsOfYInData\n",
    "res[lenData + 1] = ny_SumsOfYInData\n",
    "res[lenData + 2] = [nx_SumsOfYInData[i] * X[i] for i in range(lenData)]\n",
    "res[lenData + 3] = [ny_SumsOfYInData[i] * Y[i] for i in range(lenData)]\n",
    "res[lenData + 4] = [nx_SumsOfYInData[i] * X[i]**2 for i in range(lenData)]\n",
    "res[lenData + 5] = [np.sum([notnanData[i][0] * notnanData[i][1][j] * notnanData[i][1][j]\n",
    "                            for j in range(len(notnanData[i][1]))]) for i in range(lenData)]\n"
   ]
  },
  {
   "cell_type": "code",
   "execution_count": 111,
   "metadata": {},
   "outputs": [
    {
     "name": "stdout",
     "output_type": "stream",
     "text": [
      "╭──────────┬───────┬──────┬──────┬─────┬───────╮\n",
      "│  \\ X     │   1   │  2   │  3   │  4  │   5   │\n",
      "│ Y \\      │       │      │      │     │       │\n",
      "├──────────┼───────┼──────┼──────┼─────┼───────┤\n",
      "│ 2.0      │  nan  │ nan  │ nan  │  3  │   4   │\n",
      "├──────────┼───────┼──────┼──────┼─────┼───────┤\n",
      "│ 2.5      │  nan  │ nan  │  5   │  3  │   5   │\n",
      "├──────────┼───────┼──────┼──────┼─────┼───────┤\n",
      "│ 3.0      │  nan  │  3   │  6   │  4  │  nan  │\n",
      "├──────────┼───────┼──────┼──────┼─────┼───────┤\n",
      "│ 3.5      │   4   │  4   │  2   │  2  │  nan  │\n",
      "├──────────┼───────┼──────┼──────┼─────┼───────┤\n",
      "│ 4.0      │   1   │  4   │ nan  │ nan │  nan  │\n",
      "├──────────┼───────┼──────┼──────┼─────┼───────┤\n",
      "│ nx       │   5   │  11  │  13  │ 12  │   9   │\n",
      "├──────────┼───────┼──────┼──────┼─────┼───────┤\n",
      "│ ny       │   7   │  13  │  13  │ 12  │   5   │\n",
      "├──────────┼───────┼──────┼──────┼─────┼───────┤\n",
      "│ nx * x   │   5   │  22  │  39  │ 48  │  45   │\n",
      "├──────────┼───────┼──────┼──────┼─────┼───────┤\n",
      "│ ny * y   │  14   │ 32.5 │  39  │ 42  │  20   │\n",
      "├──────────┼───────┼──────┼──────┼─────┼───────┤\n",
      "│ nx * x^2 │   5   │  44  │ 117  │ 192 │  225  │\n",
      "├──────────┼───────┼──────┼──────┼─────┼───────┤\n",
      "│ nxy_xy   │ 28.25 │ 74.5 │ 82.5 │ 126 │ 51.25 │\n",
      "╰──────────┴───────┴──────┴──────┴─────┴───────╯\n"
     ]
    }
   ],
   "source": [
    "cols = np.append([\n",
    "    ''' \\ X\n",
    "Y \\\\'''], to_strings(X))\n",
    "rows = np.append(to_strings(\n",
    "    Y), ['nx', 'ny', 'nx * x', 'ny * y', 'nx * x^2', 'nxy_xy'])\n",
    "\n",
    "tabulate(res, cols, rows)"
   ]
  },
  {
   "cell_type": "markdown",
   "metadata": {},
   "source": [
    "#### The equation"
   ]
  },
  {
   "cell_type": "code",
   "execution_count": null,
   "metadata": {},
   "outputs": [],
   "source": [
    "# TODO: the equation making (page 11)"
   ]
  }
 ],
 "metadata": {
  "kernelspec": {
   "display_name": "Python 3",
   "language": "python",
   "name": "python3"
  },
  "language_info": {
   "codemirror_mode": {
    "name": "ipython",
    "version": 3
   },
   "file_extension": ".py",
   "mimetype": "text/x-python",
   "name": "python",
   "nbconvert_exporter": "python",
   "pygments_lexer": "ipython3",
   "version": "3.11.1"
  },
  "orig_nbformat": 4
 },
 "nbformat": 4,
 "nbformat_minor": 2
}
