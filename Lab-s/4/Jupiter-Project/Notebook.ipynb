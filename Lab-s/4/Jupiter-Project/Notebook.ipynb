{
 "cells": [
  {
   "cell_type": "markdown",
   "metadata": {},
   "source": [
    "# Lab 4"
   ]
  },
  {
   "cell_type": "markdown",
   "metadata": {},
   "source": [
    "## Init data"
   ]
  },
  {
   "cell_type": "markdown",
   "metadata": {},
   "source": [
    "![Task](image.png)"
   ]
  },
  {
   "cell_type": "code",
   "execution_count": null,
   "metadata": {},
   "outputs": [],
   "source": [
    "import matplotlib.pyplot as plt\n",
    "import numpy as np\n",
    "from tabulate import tabulate as tb\n",
    "\n",
    "X = np.array([i+1 for i in range(5)])\n",
    "Y = np.array([2 + 0.5 * i for i in range(5)])\n",
    "\n",
    "lenData = len(X)\n",
    "nan = np.nan\n",
    "fmt_float = '.3f'\n",
    "\n",
    "Data = np.array(\n",
    "    [\n",
    "        [nan, nan, nan, 3, 4],\n",
    "        [nan, nan, 5, 3, 5],\n",
    "        [nan, 3, 6, 4, nan],\n",
    "        [4, 4, 2, 2, nan],\n",
    "        [1, 4, nan, nan, nan]\n",
    "    ]\n",
    ")\n",
    "\n",
    "ny_SumsOfYInData = np.array([np.nansum(Data[i, :]) for i in range(lenData)])\n",
    "nx_SumsOfYInData = np.array([np.nansum(Data[:, i]) for i in range(lenData)])\n",
    "\n",
    "\n",
    "def tabulate(a: np.ndarray, headers: np.ndarray = []):\n",
    "    print(tb(np.array([np.round(i, 3) for i in a]), headers=headers,\n",
    "          tablefmt='rounded_grid', numalign='center'))\n"
   ]
  },
  {
   "cell_type": "code",
   "execution_count": null,
   "metadata": {},
   "outputs": [],
   "source": [
    "tabulate(Data)\n"
   ]
  },
  {
   "cell_type": "markdown",
   "metadata": {},
   "source": [
    "## Correlation field"
   ]
  },
  {
   "cell_type": "code",
   "execution_count": null,
   "metadata": {},
   "outputs": [],
   "source": [
    "# trend line\n",
    "start = (np.flip(X)[0] + np.flip(Y)[0]) / 2\n",
    "notnanData = (((np.flip(X)[-1] + np.flip(Y)[-1]) / 2) - start) / lenData\n",
    "\n",
    "tl = [start + notnanData * i for i in range(lenData)]\n",
    "\n",
    "notnanData = [[[], [], []] for i in range(lenData)]\n",
    "\n",
    "for j in range(lenData):\n",
    "    for i in range(lenData):\n",
    "        if (np.isnan(Data[i, j])):\n",
    "            continue\n",
    "        notnanData[i][0].append(i + 1)\n",
    "        notnanData[i][1].append(Y[j])\n",
    "        notnanData[i][2].append(Data[j, i])\n",
    "\n",
    "plt.plot(np.flip(Y), X, label='Y / X')\n",
    "plt.plot(np.flip(X), Y, label='X / Y')\n",
    "plt.plot(tl, Y, label='Trend line', c='gray', ls='--')\n",
    "for i in range(lenData):\n",
    "    plt.scatter(notnanData[i][0], notnanData[i][1], c='black')\n",
    "plt.title('Correlation field')\n",
    "plt.xlabel('X')\n",
    "plt.ylabel('Y')\n",
    "plt.legend(loc='lower left')\n"
   ]
  },
  {
   "cell_type": "markdown",
   "metadata": {},
   "source": [
    "## Least squares regression line equation"
   ]
  },
  {
   "cell_type": "markdown",
   "metadata": {},
   "source": [
    "### Plot"
   ]
  },
  {
   "cell_type": "code",
   "execution_count": null,
   "metadata": {},
   "outputs": [],
   "source": [
    "y_avarage_xj = np.zeros(lenData)\n",
    "\n",
    "for j in range(lenData):\n",
    "    q = np.sum(notnanData[j][-1])* Y[j]\n",
    "    y_avarage_xj[j] = q / nx_SumsOfYInData[j]\n",
    "\n",
    "plt.scatter(X, y_avarage_xj, c=\"black\")\n",
    "plt.plot(X, Y, label='X on Y')\n",
    "plt.legend()"
   ]
  },
  {
   "cell_type": "markdown",
   "metadata": {},
   "source": [
    "### The least squares method"
   ]
  },
  {
   "cell_type": "code",
   "execution_count": null,
   "metadata": {},
   "outputs": [],
   "source": [
    "# TODO: task 2"
   ]
  }
 ],
 "metadata": {
  "kernelspec": {
   "display_name": "Python 3",
   "language": "python",
   "name": "python3"
  },
  "language_info": {
   "codemirror_mode": {
    "name": "ipython",
    "version": 3
   },
   "file_extension": ".py",
   "mimetype": "text/x-python",
   "name": "python",
   "nbconvert_exporter": "python",
   "pygments_lexer": "ipython3",
   "version": "3.11.0"
  },
  "orig_nbformat": 4
 },
 "nbformat": 4,
 "nbformat_minor": 2
}
